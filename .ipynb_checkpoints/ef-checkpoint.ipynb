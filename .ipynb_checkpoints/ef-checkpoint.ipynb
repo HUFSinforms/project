{
 "cells": [
  {
   "cell_type": "code",
   "execution_count": 24,
   "metadata": {
    "collapsed": false
   },
   "outputs": [
    {
     "ename": "SyntaxError",
     "evalue": "invalid syntax (<ipython-input-24-44b2c6352503>, line 2)",
     "output_type": "error",
     "traceback": [
      "\u001b[0;36m  File \u001b[0;32m\"<ipython-input-24-44b2c6352503>\"\u001b[0;36m, line \u001b[0;32m2\u001b[0m\n\u001b[0;31m    function portfolio2(mean1,mean2,sig1,sig2,rho12)\u001b[0m\n\u001b[0m                      ^\u001b[0m\n\u001b[0;31mSyntaxError\u001b[0m\u001b[0;31m:\u001b[0m invalid syntax\n"
     ]
    }
   ],
   "source": [
    " \n",
    "function portfolio2(mean1,mean2,sig1,sig2,rho12)\n",
    " \n",
    "    # % mean1=1.26/100;\n",
    "    # % mean2=1.23/100;\n",
    "    # %\n",
    "    # % sig1=4.43/100;\n",
    "    # % sig2=5.55/100;\n",
    "    # %\n",
    "    # % rho12=0.58;\n",
    "\n",
    "    dw=0.001;\n",
    "\n",
    "    w1=[0:dw:1];  n=length(w1);\n",
    "\n",
    "        for i=1:1:n\n",
    "\n",
    "        w2(i)=1-w1(i);\n",
    "\n",
    "        sig(i)=(w1(i)*sig1)^2+(w2(i)*sig2)^2+.....\n",
    "        2*rho12*w1(i)*w2(i)*sig1*sig2 ;....\n",
    "\n",
    "\n",
    "        mean(i)=w1(i)*mean1+w2(i)*mean2;\n",
    "\n",
    "        end;\n",
    "    v1=min(sig) ;\n",
    "    V1=min(v1) ;\n",
    "\n",
    "    v2=max(mean);\n",
    "    V2=max(v2);\n",
    "\n",
    "    [r]=find(sig==V1);\n",
    "\n",
    "    # % weight_minimize sig\n",
    "\n",
    "    WS1=(r-1)*dw\n",
    "    WS2=1-WS1\n",
    "\n",
    "    [R]=find(mean==V2) ;\n",
    "\n",
    "    # % weight_maximize mean\n",
    "\n",
    "    WM1=(R-1)*dw\n",
    "    WM2=1-WM1\n",
    "\n",
    "    plot(sqrt(sig),mean)\n",
    "    title('efficient frontier');\n",
    "    xlabel('risk');\n",
    "    ylabel('Earning');\n"
   ]
  },
  {
   "cell_type": "code",
   "execution_count": 35,
   "metadata": {
    "collapsed": true
   },
   "outputs": [],
   "source": [
    "%matplotlib inline\n",
    "import numpy as np\n",
    "import matplotlib.pyplot as plt\n",
    "import cvxopt as opt\n",
    "from cvxopt import blas, solvers\n",
    "import pandas as pd\n",
    "\n",
    "np.random.seed(123)\n",
    "\n",
    "# Turn off progress printing \n",
    "solvers.options['show_progress'] = False\n",
    "\n",
    "\n",
    "\n",
    "return_vec = np.random.randn(n_assets, n_obs)\n",
    "\n",
    "def rand_weights(n):\n",
    "    ''' Produces n random weights that sum to 1 '''\n",
    "    k = np.random.rand(n)\n",
    "    return k / sum(k)\n",
    "\n",
    "def random_portfolio(returns):\n",
    "    ''' \n",
    "    Returns the mean and standard deviation of returns for a random portfolio\n",
    "    '''\n",
    "\n",
    "    p = np.asmatrix(np.mean(returns, axis=1))\n",
    "    w = np.asmatrix(rand_weights(returns.shape[0]))\n",
    "    C = np.asmatrix(np.cov(returns))\n",
    "    \n",
    "    mu = w * p.T\n",
    "    sigma = np.sqrt(w * C * w.T)\n",
    "    \n",
    "    # This recursion reduces outliers to keep plots pretty\n",
    "    if sigma > 2:\n",
    "        return random_portfolio(returns)\n",
    "    return mu, sigma\n",
    "\n",
    "\n",
    "n_portfolios = 500\n",
    "means, stds = np.column_stack([\n",
    "    random_portfolio(return_vec) \n",
    "    for _ in xrange(n_portfolios)\n",
    "])"
   ]
  },
  {
   "cell_type": "code",
   "execution_count": 36,
   "metadata": {
    "collapsed": false
   },
   "outputs": [
    {
     "data": {
      "text/plain": [
       "[<matplotlib.lines.Line2D at 0x110428b50>]"
      ]
     },
     "execution_count": 36,
     "metadata": {},
     "output_type": "execute_result"
    },
    {
     "data": {
      "image/png": "[encoded data removed]",
      "text/plain": [
       "<matplotlib.figure.Figure at 0x11842a550>"
      ]
     },
     "metadata": {},
     "output_type": "display_data"
    }
   ],
   "source": [
    "def optimal_portfolio(returns):\n",
    "    n = len(returns)\n",
    "    returns = np.asmatrix(returns)\n",
    "    \n",
    "    N = 100\n",
    "    mus = [10**(5.0 * t/N - 1.0) for t in range(N)]\n",
    "    \n",
    "    # Convert to cvxopt matrices\n",
    "    S = opt.matrix(np.cov(returns))\n",
    "    pbar = opt.matrix(np.mean(returns, axis=1))\n",
    "    \n",
    "    # Create constraint matrices\n",
    "    G = -opt.matrix(np.eye(n))   # negative n x n identity matrix\n",
    "    h = opt.matrix(0.0, (n ,1))\n",
    "    A = opt.matrix(1.0, (1, n))\n",
    "    b = opt.matrix(1.0)\n",
    "    \n",
    "    # Calculate efficient frontier weights using quadratic programming\n",
    "    portfolios = [solvers.qp(mu*S, -pbar, G, h, A, b)['x'] \n",
    "                  for mu in mus]\n",
    "    ## CALCULATE RISKS AND RETURNS FOR FRONTIER\n",
    "    returns = [blas.dot(pbar, x) for x in portfolios]\n",
    "    risks = [np.sqrt(blas.dot(x, S*x)) for x in portfolios]\n",
    "    ## CALCULATE THE 2ND DEGREE POLYNOMIAL OF THE FRONTIER CURVE\n",
    "    m1 = np.polyfit(returns, risks, 2)\n",
    "    x1 = np.sqrt(m1[2] / m1[0])\n",
    "    # CALCULATE THE OPTIMAL PORTFOLIO\n",
    "    wt = solvers.qp(opt.matrix(x1 * S), -pbar, G, h, A, b)['x']\n",
    "    return np.asarray(wt), returns, risks\n",
    "\n",
    "## NUMBER OF ASSETS\n",
    "n_assets = 3\n",
    "\n",
    "## NUMBER OF OBSERVATIONS\n",
    "n_obs = 1000\n",
    "weights, returns, risks = optimal_portfolio(return_vec)\n",
    "\n",
    "plt.plot(stds, means, 'o')\n",
    "plt.ylabel('mean')\n",
    "plt.xlabel('std')\n",
    "plt.plot(risks, returns, 'y-o')"
   ]
  },
  {
   "cell_type": "code",
   "execution_count": null,
   "metadata": {
    "collapsed": true
   },
   "outputs": [],
   "source": []
  }
 ],
 "metadata": {
  "kernelspec": {
   "display_name": "Python 2",
   "language": "python",
   "name": "python2"
  },
  "language_info": {
   "codemirror_mode": {
    "name": "ipython",
    "version": 2
   },
   "file_extension": ".py",
   "mimetype": "text/x-python",
   "name": "python",
   "nbconvert_exporter": "python",
   "pygments_lexer": "ipython2",
   "version": "2.7.13"
  }
 },
 "nbformat": 4,
 "nbformat_minor": 2
}

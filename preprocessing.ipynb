{
 "cells": [
  {
   "cell_type": "code",
   "execution_count": 2,
   "metadata": {
    "collapsed": true
   },
   "outputs": [],
   "source": [
    "import pandas as pd\n",
    "import time,datetime\n",
    "import numpy as np"
   ]
  },
  {
   "cell_type": "code",
   "execution_count": 3,
   "metadata": {
    "collapsed": true
   },
   "outputs": [],
   "source": [
    "#timeseries data\n",
    "all_data=pd.read_csv('./data/Timeseries_data_SP500.csv')\n",
    "date_list=list(set(list(all_data['DATE'])))\n",
    "for i in range(len(date_list)):\n",
    "    ak=date_list[i]\n",
    "    date_list[i]=ak[6:]+str('-')+ak[:2]+'-'+ak[3:5]\n",
    "date_list.sort()\n",
    "all_data['DATE']=pd.to_datetime(all_data['DATE'])\n",
    "all_data=all_data.rename(columns={'NAME':'name','DATE':'date','SEDOL':'sedol','SECTOR':'sector','BETA':'beta','ALPHA_SCORE':'as','BENCH_WEIGHT':'bw',\"MCAP_Q\":'mq'})\n",
    "sedol_list=all_data['sedol'].unique().tolist()\n",
    "\n",
    "dic_data = {k: v for k, v in all_data.groupby('date')}"
   ]
  },
  {
   "cell_type": "code",
   "execution_count": 4,
   "metadata": {
    "collapsed": true
   },
   "outputs": [],
   "source": [
    "#risk:cov_mat\n",
    "def risk(date_str):\n",
    "    risk_data=pd.read_csv('./data/RM_Output_1/cov_mat_%s.csv'%(date_str))\n",
    "    risk_sedol=risk_data['ROW_INDEX'].unique().tolist()\n",
    "    risk_mat = np.zeros((len(risk_sedol),len(risk_sedol)))\n",
    "    risk_mat[np.triu_indices(len(risk_sedol), 0)] = list(risk_data['VALUE'])\n",
    "    irows,icols = np.triu_indices(len(risk_sedol),0)\n",
    "    risk_mat[icols,irows]=risk_mat[irows,icols]\n",
    "    return risk_data,risk_sedol,risk_mat\n",
    "risk_data,risk_sedol,risk_mat=risk(date_list[0])"
   ]
  },
  {
   "cell_type": "code",
   "execution_count": 16,
   "metadata": {},
   "outputs": [
    {
     "data": {
      "text/plain": [
       "{'$$CASH0'}"
      ]
     },
     "execution_count": 16,
     "metadata": {},
     "output_type": "execute_result"
    }
   ],
   "source": [
    "set(risk_sedol)-set(a)"
   ]
  },
  {
   "cell_type": "code",
   "execution_count": 14,
   "metadata": {
    "collapsed": true
   },
   "outputs": [],
   "source": [
    "a=list(dic_data[list(dic_data.keys())[0]]['sedol'])"
   ]
  },
  {
   "cell_type": "code",
   "execution_count": null,
   "metadata": {
    "collapsed": true
   },
   "outputs": [],
   "source": []
  }
 ],
 "metadata": {
  "kernelspec": {
   "display_name": "Python 3",
   "language": "python",
   "name": "python3"
  },
  "language_info": {
   "codemirror_mode": {
    "name": "ipython",
    "version": 3
   },
   "file_extension": ".py",
   "mimetype": "text/x-python",
   "name": "python",
   "nbconvert_exporter": "python",
   "pygments_lexer": "ipython3",
   "version": "3.6.3"
  }
 },
 "nbformat": 4,
 "nbformat_minor": 2
}
